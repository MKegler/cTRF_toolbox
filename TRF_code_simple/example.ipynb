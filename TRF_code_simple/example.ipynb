{
 "cells": [
  {
   "cell_type": "markdown",
   "metadata": {},
   "source": [
    "# Example"
   ]
  },
  {
   "cell_type": "markdown",
   "metadata": {},
   "source": [
    "Here, I use already preprocessed eeg data with an external script. The EEG data sample attached has been re-referenced to the average bandpass filtered between 2 - 8 Hz and downsampled to 64 Hz. The sample of envelope was downsampled to 64 Hz.\n",
    "\n",
    "Required packages:\n",
    "\n",
    "NumPy http://www.numpy.org/\n",
    "\n",
    "SciPy https://www.scipy.org/\n",
    "\n",
    "complex_model custom package (complex_model.py attached)"
   ]
  },
  {
   "cell_type": "code",
   "execution_count": 1,
   "metadata": {},
   "outputs": [],
   "source": [
    "import numpy as np\n",
    "import complex_model"
   ]
  },
  {
   "cell_type": "code",
   "execution_count": 2,
   "metadata": {},
   "outputs": [],
   "source": [
    "# Load eeg data\n",
    "eeg = np.load('./example_eeg.npy')\n",
    "\n",
    "# Load envelope data\n",
    "env = np.load('./example_env.npy')\n",
    "\n",
    "# Choose range of regularization parameters\n",
    "lambdas = [10.**n for n in np.arange(-5,5,0.5)]"
   ]
  },
  {
   "cell_type": "markdown",
   "metadata": {},
   "source": [
    "# Warning\n",
    "\n",
    "Cell below can take a minute or two to run. The more regularization parameters the longer the training takes."
   ]
  },
  {
   "cell_type": "code",
   "execution_count": 3,
   "metadata": {},
   "outputs": [
    {
     "name": "stdout",
     "output_type": "stream",
     "text": [
      "Done!\n"
     ]
    }
   ],
   "source": [
    "# Backward model -> reconstructs envelope from EEG\n",
    "backward = complex_model.train(eeg, env, [-6, 25], forward=False, complex=True)\n",
    "\n",
    "# Forward model -> reconstructs EEG from envelope\n",
    "forward = complex_model.train(eeg, env, [-6, 25], forward=True, complex=True)\n",
    "\n",
    "# Backward model regularized\n",
    "backward_reg = complex_model.train(eeg, env, [-6, 25], forward=False, complex=True, lambdas=lambdas)\n",
    "\n",
    "# Forward model regularized\n",
    "forward_reg = complex_model.train(eeg, env, [-6, 25], forward=True, complex=True, lambdas=lambdas)\n",
    "\n",
    "print ('Done!')"
   ]
  }
 ],
 "metadata": {
  "kernelspec": {
   "display_name": "Python [conda env:py27]",
   "language": "python",
   "name": "conda-env-py27-py"
  },
  "language_info": {
   "codemirror_mode": {
    "name": "ipython",
    "version": 2
   },
   "file_extension": ".py",
   "mimetype": "text/x-python",
   "name": "python",
   "nbconvert_exporter": "python",
   "pygments_lexer": "ipython2",
   "version": "2.7.14"
  }
 },
 "nbformat": 4,
 "nbformat_minor": 2
}
